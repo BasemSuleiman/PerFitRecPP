{
  "nbformat": 4,
  "nbformat_minor": 0,
  "metadata": {
    "colab": {
      "name": "How to get UI dataset.ipynb",
      "provenance": [],
      "collapsed_sections": []
    },
    "kernelspec": {
      "name": "python3",
      "display_name": "Python 3"
    }
  },
  "cells": [
    {
      "cell_type": "markdown",
      "metadata": {
        "id": "JQlTaK5k6OzW"
      },
      "source": [
        "# How to get UI dataset\n"
      ]
    },
    {
      "cell_type": "code",
      "metadata": {
        "id": "cBXX4_gaubEa",
        "colab": {
          "base_uri": "https://localhost:8080/",
          "height": 508
        },
        "outputId": "07a4876f-5d53-49b4-faae-3e82535d0a08"
      },
      "source": [
        "from sklearn.preprocessing import MinMaxScaler, OneHotEncoder\n",
        "import numpy as np\n",
        "import pandas as pd\n",
        "from torch.utils.data import Dataset\n",
        "import torch.nn as nn\n",
        "import torch\n",
        "import joblib\n",
        "import os\n",
        "\n",
        "#tf denpendencies\n",
        "import tensorflow as tf\n",
        "from tensorflow.keras.models import Sequential,Model\n",
        "from tensorflow.keras.layers import Dense, LSTM,Dropout,Activation,Input,Bidirectional\n",
        "from tensorflow.keras.optimizers import Adagrad, Adam, SGD, RMSprop\n",
        "from tensorflow.keras.models import load_model,save_model\n",
        "from tensorflow.keras.utils import plot_model,to_categorical\n",
        "\n",
        "#plotly\n",
        "import plotly.express as px\n",
        "import plotly.graph_objects as go\n",
        "from plotly.subplots import make_subplots\n",
        "#google drive\n",
        "from google.colab import drive\n",
        "drive.mount('/content/gdrive')\n",
        "\n",
        "!pip install scikit-tensor-py3\n",
        "from sktensor import dtensor\n",
        "# !pip install pyngrok\n",
        "# from pyngrok import ngrok"
      ],
      "execution_count": 1,
      "outputs": [
        {
          "output_type": "stream",
          "text": [
            "Mounted at /content/gdrive\n",
            "Collecting scikit-tensor-py3\n",
            "\u001b[?25l  Downloading https://files.pythonhosted.org/packages/33/91/28aa13c7c056c37d53677881cdff1c7e8da097aea5c0e4cb4faafb44ce4f/scikit_tensor_py3-0.4.1-py3-none-any.whl (48kB)\n",
            "\u001b[K     |████████████████████████████████| 51kB 3.4MB/s \n",
            "\u001b[?25hCollecting scipy==1.3.*\n",
            "\u001b[?25l  Downloading https://files.pythonhosted.org/packages/54/18/d7c101d5e93b6c78dc206fcdf7bd04c1f8138a7b1a93578158fa3b132b08/scipy-1.3.3-cp36-cp36m-manylinux1_x86_64.whl (25.2MB)\n",
            "\u001b[K     |████████████████████████████████| 25.2MB 2.0MB/s \n",
            "\u001b[?25hCollecting numpy==1.16.*\n",
            "\u001b[?25l  Downloading https://files.pythonhosted.org/packages/90/b1/ba7e59da253c58aaf874ea790ae71d6870255a5243010d94688c41618678/numpy-1.16.6-cp36-cp36m-manylinux1_x86_64.whl (17.4MB)\n",
            "\u001b[K     |████████████████████████████████| 17.4MB 254kB/s \n",
            "\u001b[31mERROR: umap-learn 0.4.6 has requirement numpy>=1.17, but you'll have numpy 1.16.6 which is incompatible.\u001b[0m\n",
            "\u001b[31mERROR: tensorflow 2.3.0 has requirement scipy==1.4.1, but you'll have scipy 1.3.3 which is incompatible.\u001b[0m\n",
            "\u001b[31mERROR: datascience 0.10.6 has requirement folium==0.2.1, but you'll have folium 0.8.3 which is incompatible.\u001b[0m\n",
            "\u001b[31mERROR: albumentations 0.1.12 has requirement imgaug<0.2.7,>=0.2.5, but you'll have imgaug 0.2.9 which is incompatible.\u001b[0m\n",
            "\u001b[?25hInstalling collected packages: numpy, scipy, scikit-tensor-py3\n",
            "  Found existing installation: numpy 1.18.5\n",
            "    Uninstalling numpy-1.18.5:\n",
            "      Successfully uninstalled numpy-1.18.5\n",
            "  Found existing installation: scipy 1.4.1\n",
            "    Uninstalling scipy-1.4.1:\n",
            "      Successfully uninstalled scipy-1.4.1\n",
            "Successfully installed numpy-1.16.6 scikit-tensor-py3-0.4.1 scipy-1.3.3\n"
          ],
          "name": "stdout"
        },
        {
          "output_type": "display_data",
          "data": {
            "application/vnd.colab-display-data+json": {
              "pip_warning": {
                "packages": [
                  "numpy",
                  "scipy"
                ]
              }
            }
          },
          "metadata": {
            "tags": []
          }
        }
      ]
    },
    {
      "cell_type": "code",
      "metadata": {
        "id": "-9L66v7G6SnQ"
      },
      "source": [
        "# Load raw train data\n",
        "file_path_test = '/content/gdrive/My Drive/COMP5703/Dataset/[1109]TrainData_adjusted.csv'\n",
        "# https://drive.google.com/file/d/1gJTFdyq_yfRK1-PD3Y_S-UkDJIrseBVu/view?usp=sharing\n",
        "cols = ['id', 'userId', 'gender', 'sport',\n",
        "          'calories', 'Route_id', 'distance_adjusted_sum','altitude_adjusted','distance_adjusted','speed_adjusted','heart_rate_adjusted','derived_speed','distance_adjusted_sum','longitude','latitude']\n",
        "df = pd.read_csv(file_path_test, usecols=cols)\n",
        "df.rename(columns={'speed_adjusted': 'speed','altitude_adjusted':'altitude','distance_adjusted':'derived_distance','heart_rate_adjusted':'heart_rate'},inplace=True)"
      ],
      "execution_count": 3,
      "outputs": []
    },
    {
      "cell_type": "code",
      "metadata": {
        "id": "dPsQT0xuVxHc"
      },
      "source": [
        "# Load raw test data\n",
        "file1_path_test = '/content/gdrive/My Drive/COMP5703/Dataset/[1109]TestData_adjusted.csv'\n",
        "# https://drive.google.com/file/d/1-4WQdpOogRog7Jg_sP5SrOb802UTqpGc/view?usp=sharing\n",
        "df1 = pd.read_csv(file1_path_test, usecols=cols)\n",
        "df1.rename(columns={'speed_adjusted': 'speed','altitude_adjusted':'altitude','distance_adjusted':'derived_distance','heart_rate_adjusted':'heart_rate'},inplace=True)"
      ],
      "execution_count": 4,
      "outputs": []
    },
    {
      "cell_type": "code",
      "metadata": {
        "id": "QZa9DJnnXC9b",
        "colab": {
          "base_uri": "https://localhost:8080/"
        },
        "outputId": "f11bee48-33b0-4288-a66a-3eca6605e318"
      },
      "source": [
        "# Combination\r\n",
        "df = pd.concat( [df, df1], axis=0 )\r\n",
        "print(len(df))"
      ],
      "execution_count": 5,
      "outputs": [
        {
          "output_type": "stream",
          "text": [
            "62831\n"
          ],
          "name": "stdout"
        }
      ]
    },
    {
      "cell_type": "code",
      "metadata": {
        "id": "d-RmDpApxOLl"
      },
      "source": [
        "# Define a fuction to find top 2 sport id to insert username\n",
        "def get_top2id(df, gender, sporttype):\n",
        "  df_new = df[(df['gender'] == gender) & (df['sport']==sporttype)]\n",
        "  d1 = df_new.userId.value_counts()\n",
        "  x1 = d1.index[:2].tolist()\n",
        "  return df_new, x1"
      ],
      "execution_count": 6,
      "outputs": []
    },
    {
      "cell_type": "code",
      "metadata": {
        "id": "uyaYYpwSxtTR"
      },
      "source": [
        "d1, male_runid = get_top2id(df, 'male', 'run')\n",
        "d2, male_bikeid = get_top2id(df, 'male', 'bike')\n",
        "d3, male_mountainbikeid = get_top2id(df, 'male', 'mountain bike')\n",
        "d4, female_runid = get_top2id(df, 'female', 'run')\n",
        "d5, female_bikeid = get_top2id(df, 'female', 'bike')\n",
        "d6, female_mountain_bikeid = get_top2id(df, 'female', 'mountain bike')"
      ],
      "execution_count": 7,
      "outputs": []
    },
    {
      "cell_type": "code",
      "metadata": {
        "id": "XE1zx4_8klPh",
        "colab": {
          "base_uri": "https://localhost:8080/"
        },
        "outputId": "d9c8259d-2fde-48a1-9684-38037c77490c"
      },
      "source": [
        "# We found top 2 id in female mountain bike has been overlapped, so manually adjusted\n",
        "d6 = df[df['gender'] == 'female']\n",
        "d6 = d6[d6['sport'] == 'mountain bike']\n",
        "d6_1 = d6.userId.value_counts()\n",
        "x6_1 = d6_1.index[1:2].tolist()\n",
        "x6_2 = d6_1.index[3:4].tolist()\n",
        "female_mountain_bikeid = x6_1+x6_2\n",
        "print(female_mountain_bikeid)"
      ],
      "execution_count": 8,
      "outputs": [
        {
          "output_type": "stream",
          "text": [
            "[6892365, 4203888]\n"
          ],
          "name": "stdout"
        }
      ]
    },
    {
      "cell_type": "code",
      "metadata": {
        "id": "KdfOpYw-hIcN"
      },
      "source": [
        "# Combination of dictionary\n",
        "sport_id_dict = male_runid+male_bikeid+male_mountainbikeid+female_runid+female_bikeid+female_mountain_bikeid"
      ],
      "execution_count": 9,
      "outputs": []
    },
    {
      "cell_type": "code",
      "metadata": {
        "colab": {
          "base_uri": "https://localhost:8080/"
        },
        "id": "AbNvmCi7Zv0G",
        "outputId": "d7988e0d-9e25-4957-dc39-352d45f19bb9"
      },
      "source": [
        "sport_id_dict"
      ],
      "execution_count": 10,
      "outputs": [
        {
          "output_type": "execute_result",
          "data": {
            "text/plain": [
              "[1063624,\n",
              " 860533,\n",
              " 3714939,\n",
              " 9051351,\n",
              " 171814,\n",
              " 58536,\n",
              " 368603,\n",
              " 7178673,\n",
              " 240120,\n",
              " 4164701,\n",
              " 6892365,\n",
              " 4203888]"
            ]
          },
          "metadata": {
            "tags": []
          },
          "execution_count": 10
        }
      ]
    },
    {
      "cell_type": "code",
      "metadata": {
        "id": "EbXzzVM26f95"
      },
      "source": [
        "# Give 12 different user names by gender\n",
        "names= ['Bruce','Christian','Dennis','Elton','Franklin','George','Catherine','Emma','Judy','Milly','Serena','Wendy']"
      ],
      "execution_count": 11,
      "outputs": []
    },
    {
      "cell_type": "code",
      "metadata": {
        "id": "pXxjwTgL8TyS",
        "colab": {
          "base_uri": "https://localhost:8080/"
        },
        "outputId": "1f85420c-ea14-42ad-9bb6-7629eeb2f797"
      },
      "source": [
        "# Get user_id - name\n",
        "dictionary = dict(zip(sport_id_dict, names))\n",
        "print(dictionary)"
      ],
      "execution_count": 12,
      "outputs": [
        {
          "output_type": "stream",
          "text": [
            "{1063624: 'Bruce', 860533: 'Christian', 3714939: 'Dennis', 9051351: 'Elton', 171814: 'Franklin', 58536: 'George', 368603: 'Catherine', 7178673: 'Emma', 240120: 'Judy', 4164701: 'Milly', 6892365: 'Serena', 4203888: 'Wendy'}\n"
          ],
          "name": "stdout"
        }
      ]
    },
    {
      "cell_type": "code",
      "metadata": {
        "id": "9ORq_a0LinFr",
        "colab": {
          "base_uri": "https://localhost:8080/"
        },
        "outputId": "5086d45d-fbec-4c7a-912a-9a2ef4218e66"
      },
      "source": [
        "df = df.loc[df['userId'].isin(sport_id_dict)]\r\n",
        "df['name'] = df['userId'].map(dictionary)\r\n",
        "print(len(df))"
      ],
      "execution_count": 13,
      "outputs": [
        {
          "output_type": "stream",
          "text": [
            "4500\n"
          ],
          "name": "stdout"
        }
      ]
    },
    {
      "cell_type": "code",
      "metadata": {
        "id": "CNIsK86QbNxO",
        "colab": {
          "base_uri": "https://localhost:8080/",
          "height": 900
        },
        "outputId": "2fc93ab2-4cc2-4ef6-c4a9-bbe0bf79dbc7"
      },
      "source": [
        "df"
      ],
      "execution_count": 14,
      "outputs": [
        {
          "output_type": "execute_result",
          "data": {
            "text/html": [
              "<div>\n",
              "<style scoped>\n",
              "    .dataframe tbody tr th:only-of-type {\n",
              "        vertical-align: middle;\n",
              "    }\n",
              "\n",
              "    .dataframe tbody tr th {\n",
              "        vertical-align: top;\n",
              "    }\n",
              "\n",
              "    .dataframe thead th {\n",
              "        text-align: right;\n",
              "    }\n",
              "</style>\n",
              "<table border=\"1\" class=\"dataframe\">\n",
              "  <thead>\n",
              "    <tr style=\"text-align: right;\">\n",
              "      <th></th>\n",
              "      <th>id</th>\n",
              "      <th>userId</th>\n",
              "      <th>gender</th>\n",
              "      <th>sport</th>\n",
              "      <th>calories</th>\n",
              "      <th>longitude</th>\n",
              "      <th>latitude</th>\n",
              "      <th>derived_speed</th>\n",
              "      <th>Route_id</th>\n",
              "      <th>altitude</th>\n",
              "      <th>derived_distance</th>\n",
              "      <th>speed</th>\n",
              "      <th>heart_rate</th>\n",
              "      <th>distance_adjusted_sum</th>\n",
              "      <th>name</th>\n",
              "    </tr>\n",
              "  </thead>\n",
              "  <tbody>\n",
              "    <tr>\n",
              "      <th>8</th>\n",
              "      <td>236905945</td>\n",
              "      <td>9051351</td>\n",
              "      <td>male</td>\n",
              "      <td>bike</td>\n",
              "      <td>1762.83</td>\n",
              "      <td>[-96.07764498330653, -96.07759008184075, -96.0...</td>\n",
              "      <td>[41.23508454300463, 41.236099088564515, 41.236...</td>\n",
              "      <td>[29.044920055943216, 37.23132633001016, 37.609...</td>\n",
              "      <td>1</td>\n",
              "      <td>[442.2, 440.6, 437.2, 433.6, 431.2, 430.6, 431...</td>\n",
              "      <td>[0.11295246688422361, 0.08273628073335591, 0.0...</td>\n",
              "      <td>[29.044920055943216, 37.23132633001016, 37.609...</td>\n",
              "      <td>[90, 91, 94, 93, 92, 120, 134, 138, 143, 147, ...</td>\n",
              "      <td>40.340000</td>\n",
              "      <td>Elton</td>\n",
              "    </tr>\n",
              "    <tr>\n",
              "      <th>20</th>\n",
              "      <td>590102440</td>\n",
              "      <td>58536</td>\n",
              "      <td>male</td>\n",
              "      <td>bike</td>\n",
              "      <td>1464.00</td>\n",
              "      <td>[12.352906242012978, 12.352890148758888, 12.35...</td>\n",
              "      <td>[55.760564832016826, 55.76056374236941, 55.760...</td>\n",
              "      <td>[0.3722291142214761, 10.682818377603066, 31.85...</td>\n",
              "      <td>0</td>\n",
              "      <td>[-5.2, -5.0, -4.4, -9.2, -11.6, -11.8, -7.6, -...</td>\n",
              "      <td>[0.0010339697617263225, 0.032641945042676035, ...</td>\n",
              "      <td>[0.3722291142214761, 10.682818377603066, 31.85...</td>\n",
              "      <td>[74, 88, 121, 140, 133, 132, 147, 154, 159, 16...</td>\n",
              "      <td>30.650000</td>\n",
              "      <td>George</td>\n",
              "    </tr>\n",
              "    <tr>\n",
              "      <th>57</th>\n",
              "      <td>304833487</td>\n",
              "      <td>3714939</td>\n",
              "      <td>male</td>\n",
              "      <td>bike</td>\n",
              "      <td>254.00</td>\n",
              "      <td>[175.75923115946352, 175.75924817472696, 175.7...</td>\n",
              "      <td>[-40.29023291543126, -40.29022595845163, -40.2...</td>\n",
              "      <td>[2.94831833640659, 6.715151488668759, 11.47518...</td>\n",
              "      <td>2</td>\n",
              "      <td>[0.0, 0.0, 0.0, 2.2, 4.4, 6.6, 8.8, 8.8, 8.8, ...</td>\n",
              "      <td>[0.0016379546313369945, 0.0018653198579635442,...</td>\n",
              "      <td>[2.94831833640659, 6.715151488668759, 11.47518...</td>\n",
              "      <td>[64, 67, 69, 70, 72, 73, 74, 86, 86, 86, 86, 8...</td>\n",
              "      <td>15.390000</td>\n",
              "      <td>Dennis</td>\n",
              "    </tr>\n",
              "    <tr>\n",
              "      <th>89</th>\n",
              "      <td>509658142</td>\n",
              "      <td>4203888</td>\n",
              "      <td>female</td>\n",
              "      <td>bike</td>\n",
              "      <td>643.00</td>\n",
              "      <td>[12.11823994293809, 12.118284199386835, 12.118...</td>\n",
              "      <td>[55.93290547840297, 55.93292886391282, 55.9330...</td>\n",
              "      <td>[13.646689469555154, 16.87375688953279, 18.527...</td>\n",
              "      <td>2</td>\n",
              "      <td>[34.0, 34.0, 34.4, 35.4, 36.6, 38.0, 38.6, 39....</td>\n",
              "      <td>[0.0037907470748764316, 0.028122928149221314, ...</td>\n",
              "      <td>[13.646689469555154, 16.87375688953279, 18.527...</td>\n",
              "      <td>[103, 103, 108, 114, 118, 118, 119, 119, 119, ...</td>\n",
              "      <td>33.750000</td>\n",
              "      <td>Wendy</td>\n",
              "    </tr>\n",
              "    <tr>\n",
              "      <th>110</th>\n",
              "      <td>421509608</td>\n",
              "      <td>4164701</td>\n",
              "      <td>female</td>\n",
              "      <td>run</td>\n",
              "      <td>306.00</td>\n",
              "      <td>[-7.6295791659504175, -7.629775805398822, -7.6...</td>\n",
              "      <td>[37.1373672131449, 37.13731097057462, 37.13727...</td>\n",
              "      <td>[17.81356186088025, 10.685093162137749, 10.387...</td>\n",
              "      <td>10</td>\n",
              "      <td>[29.0, 12.6, 12.8, 12.4, 12.0, 11.6, 12.6, 13....</td>\n",
              "      <td>[0.024741058140111457, 0.01193419598050835, 0....</td>\n",
              "      <td>[17.81356186088025, 10.685093162137749, 10.387...</td>\n",
              "      <td>[70, 78, 86, 93, 97, 100, 107, 110, 118, 123, ...</td>\n",
              "      <td>6.860000</td>\n",
              "      <td>Milly</td>\n",
              "    </tr>\n",
              "    <tr>\n",
              "      <th>...</th>\n",
              "      <td>...</td>\n",
              "      <td>...</td>\n",
              "      <td>...</td>\n",
              "      <td>...</td>\n",
              "      <td>...</td>\n",
              "      <td>...</td>\n",
              "      <td>...</td>\n",
              "      <td>...</td>\n",
              "      <td>...</td>\n",
              "      <td>...</td>\n",
              "      <td>...</td>\n",
              "      <td>...</td>\n",
              "      <td>...</td>\n",
              "      <td>...</td>\n",
              "      <td>...</td>\n",
              "    </tr>\n",
              "    <tr>\n",
              "      <th>12534</th>\n",
              "      <td>234772370</td>\n",
              "      <td>9051351</td>\n",
              "      <td>male</td>\n",
              "      <td>bike</td>\n",
              "      <td>722.00</td>\n",
              "      <td>[-96.0777654312551, -96.07760860584676, -96.07...</td>\n",
              "      <td>[41.234817830845714, 41.234908774495125, 41.23...</td>\n",
              "      <td>[7.508463586673831, 21.8895067147745, 34.25150...</td>\n",
              "      <td>1</td>\n",
              "      <td>[336.0, 338.0, 335.6, 319.6, 321.2, 324.6, 323...</td>\n",
              "      <td>[0.016685474637052958, 0.05472376678693625, 0....</td>\n",
              "      <td>[7.508463586673831, 21.8895067147745, 39.39670...</td>\n",
              "      <td>[94.0, 107.0, 110.0, 91.0, 86.0, 100.0, 100.0,...</td>\n",
              "      <td>36.771399</td>\n",
              "      <td>Elton</td>\n",
              "    </tr>\n",
              "    <tr>\n",
              "      <th>12544</th>\n",
              "      <td>443682294</td>\n",
              "      <td>58536</td>\n",
              "      <td>male</td>\n",
              "      <td>mountain bike</td>\n",
              "      <td>905.00</td>\n",
              "      <td>[12.432926008477807, 12.432247996330261, 12.43...</td>\n",
              "      <td>[55.764859803020954, 55.764923924580216, 55.76...</td>\n",
              "      <td>[12.913769918091283, 8.61360766179033, 4.35618...</td>\n",
              "      <td>7</td>\n",
              "      <td>[10.6, 9.2, 11.6, 11.6, 13.8, 15.8, 18.0, 21.8...</td>\n",
              "      <td>[0.04304589972697095, 0.031104694334242854, 0....</td>\n",
              "      <td>[12.913769918091283, 8.61360766179033, 4.35618...</td>\n",
              "      <td>[94.0, 88.0, 104.0, 91.0, 101.0, 115.0, 122.0,...</td>\n",
              "      <td>27.408731</td>\n",
              "      <td>George</td>\n",
              "    </tr>\n",
              "    <tr>\n",
              "      <th>12548</th>\n",
              "      <td>567079210</td>\n",
              "      <td>1063624</td>\n",
              "      <td>male</td>\n",
              "      <td>run</td>\n",
              "      <td>617.00</td>\n",
              "      <td>[21.25957346521318, 21.25957002863288, 21.2594...</td>\n",
              "      <td>[48.971513863652945, 48.97151319310069, 48.971...</td>\n",
              "      <td>[0.9423813987592442, 8.228266387017134, 9.8510...</td>\n",
              "      <td>10</td>\n",
              "      <td>[286.8, 288.2, 287.0, 286.6, 286.2, 286.2, 284...</td>\n",
              "      <td>[0.013106475330578593, 0.013535761460512481, 0...</td>\n",
              "      <td>[9.436662238016586, 9.85103745992285, 10.01697...</td>\n",
              "      <td>[77.0, 81.0, 84.0, 93.0, 98.0, 102.0, 105.0, 1...</td>\n",
              "      <td>15.903519</td>\n",
              "      <td>Bruce</td>\n",
              "    </tr>\n",
              "    <tr>\n",
              "      <th>12549</th>\n",
              "      <td>198268823</td>\n",
              "      <td>1063624</td>\n",
              "      <td>male</td>\n",
              "      <td>run</td>\n",
              "      <td>441.00</td>\n",
              "      <td>[21.2500491, 21.2500494, 21.2501469, 21.250217...</td>\n",
              "      <td>[48.9931864, 48.993171, 48.9929749, 48.9928267...</td>\n",
              "      <td>[6.1670856897606985, 9.648100228458556, 10.194...</td>\n",
              "      <td>10</td>\n",
              "      <td>[278.6, 278.6, 277.2, 277.2, 277.2, 277.2, 276...</td>\n",
              "      <td>[0.0017130793582668606, 0.022986227624313176, ...</td>\n",
              "      <td>[6.1670856897606985, 9.648100228458556, 10.194...</td>\n",
              "      <td>[95.0, 95.0, 98.0, 103.0, 106.0, 111.0, 112.0,...</td>\n",
              "      <td>9.143248</td>\n",
              "      <td>Bruce</td>\n",
              "    </tr>\n",
              "    <tr>\n",
              "      <th>12560</th>\n",
              "      <td>105169953</td>\n",
              "      <td>1063624</td>\n",
              "      <td>male</td>\n",
              "      <td>run</td>\n",
              "      <td>952.00</td>\n",
              "      <td>[21.3032618, 21.3033593, 21.3036997, 21.304051...</td>\n",
              "      <td>[48.9543223, 48.9542724, 48.9540713, 48.953855...</td>\n",
              "      <td>[8.1260237305058, 10.57178081607141, 11.111965...</td>\n",
              "      <td>12</td>\n",
              "      <td>[323.6, 320.4, 320.4, 319.4, 318.2, 318.2, 317...</td>\n",
              "      <td>[0.04262577642739165, 0.03512192657126315, 0.0...</td>\n",
              "      <td>[10.960913938472139, 11.111965138207228, 11.43...</td>\n",
              "      <td>[102.0, 122.0, 133.0, 145.0, 142.0, 149.0, 145...</td>\n",
              "      <td>25.260036</td>\n",
              "      <td>Bruce</td>\n",
              "    </tr>\n",
              "  </tbody>\n",
              "</table>\n",
              "<p>4500 rows × 15 columns</p>\n",
              "</div>"
            ],
            "text/plain": [
              "              id   userId  ... distance_adjusted_sum    name\n",
              "8      236905945  9051351  ...             40.340000   Elton\n",
              "20     590102440    58536  ...             30.650000  George\n",
              "57     304833487  3714939  ...             15.390000  Dennis\n",
              "89     509658142  4203888  ...             33.750000   Wendy\n",
              "110    421509608  4164701  ...              6.860000   Milly\n",
              "...          ...      ...  ...                   ...     ...\n",
              "12534  234772370  9051351  ...             36.771399   Elton\n",
              "12544  443682294    58536  ...             27.408731  George\n",
              "12548  567079210  1063624  ...             15.903519   Bruce\n",
              "12549  198268823  1063624  ...              9.143248   Bruce\n",
              "12560  105169953  1063624  ...             25.260036   Bruce\n",
              "\n",
              "[4500 rows x 15 columns]"
            ]
          },
          "metadata": {
            "tags": []
          },
          "execution_count": 14
        }
      ]
    },
    {
      "cell_type": "markdown",
      "metadata": {
        "id": "Vf990rRW6VRU"
      },
      "source": [
        "## Get dict function"
      ]
    },
    {
      "cell_type": "code",
      "metadata": {
        "id": "qvNxgvg4C2JG"
      },
      "source": [
        "# Define a function for users who have exercised on more than 1 route\n",
        "def get_dic(df, Routeid, uid, cityname):\n",
        "  df1 = df[df['userId'] == uid]\n",
        "  k = df1[df1['Route_id']==Routeid]\n",
        "  df_newgen = k.drop_duplicates(subset='distance_adjusted_sum')\n",
        "  df_newgen = df_newgen.reset_index(drop=True)\n",
        "  a = []\n",
        "  for i in range(len(df_newgen)):\n",
        "    a.append(cityname + str(round(df_newgen['distance_adjusted_sum'][i],2)))\n",
        "  df_newgen['city'] = a\n",
        "  dict1 = df_newgen.groupby('id')['city'].apply(list).to_dict()\n",
        "  return dict1"
      ],
      "execution_count": 15,
      "outputs": []
    },
    {
      "cell_type": "code",
      "metadata": {
        "id": "I8NCPncZ2YLs"
      },
      "source": [
        "# Define a function for users who have exercised on only 1 route\n",
        "def get_singdic(df, uid, cityname):\n",
        "  df1 = df[df['userId'] == uid]\n",
        "  df_newgen = df1.drop_duplicates(subset='distance_adjusted_sum')\n",
        "  df_newgen = df_newgen.reset_index(drop=True)\n",
        "  a = []\n",
        "  for i in range(len(df_newgen)):\n",
        "    a.append(cityname + str(round(df_newgen['distance_adjusted_sum'][i],2)))\n",
        "  df_newgen['city'] = a\n",
        "  dict1 = df_newgen.groupby('id')['city'].apply(list).to_dict()\n",
        "  return dict1"
      ],
      "execution_count": 16,
      "outputs": []
    },
    {
      "cell_type": "markdown",
      "metadata": {
        "id": "A0zSzMGU6Fzf"
      },
      "source": [
        "# Run dict\n"
      ]
    },
    {
      "cell_type": "markdown",
      "metadata": {
        "id": "z6V_wW4a1NrA"
      },
      "source": [
        "The citynames where 12 users’ routes are located has been found through Google Maps outside. The dictionary will be named through ‘city-country_total route distance ’"
      ]
    },
    {
      "cell_type": "code",
      "metadata": {
        "id": "3_kS3fW5wfmP"
      },
      "source": [
        "dic1 = get_dic(d1, 11, 860533, 'Pretoria-ZA_')\n",
        "dic2 = get_dic(d1, 10, 860533, 'Cape town-ZA_')\n",
        "dic3 = get_dic(d1, 8, 1063624, 'Prešov-SVK_')\n",
        "dic4 = get_dic(d1, 9, 1063624, 'Prešov-SVK_')\n",
        "dic5 = get_dic(d1, 10, 1063624, 'Prešov-SVK_')\n",
        "dic6 = get_dic(d1, 11, 1063624, 'Vysoké-SVK_')\n",
        "dic7 = get_dic(d1, 12, 1063624, 'Prešov-SVK_')\n",
        "dic8 = get_dic(d1, 13, 1063624, 'Prešov-SVK_')\n",
        "dic9 = get_dic(d4, 10, 368603, 'Guyancourt-FR_')\n",
        "dic10 = get_dic(d4, 12, 368603, 'Guyancourt-FR_')\n",
        "dic11 = get_dic(d4, 9, 368603, 'Versailles-FR_')\n",
        "dic12 = get_dic(d4, 13, 368603, 'Versailles-FR_')\n",
        "dic13 = get_dic(d4, 10, 7178673, 'Varde-DK_')\n",
        "dic14 = get_dic(d4, 12, 7178673, 'Varde-DK_')"
      ],
      "execution_count": 17,
      "outputs": []
    },
    {
      "cell_type": "code",
      "metadata": {
        "id": "GqwUy-Wc4v4R"
      },
      "source": [
        "run_dic = {**dic1, **dic2, **dic3, **dic4, **dic5, **dic6, **dic7, **dic8, **dic9, **dic10, **dic11, **dic12, **dic13, **dic14 }"
      ],
      "execution_count": 18,
      "outputs": []
    },
    {
      "cell_type": "code",
      "metadata": {
        "id": "EdaGV_8A5Wf0",
        "colab": {
          "base_uri": "https://localhost:8080/"
        },
        "outputId": "9dca1369-4cde-4a61-8a92-766b37424d8a"
      },
      "source": [
        "print(len(run_dic))"
      ],
      "execution_count": 19,
      "outputs": [
        {
          "output_type": "stream",
          "text": [
            "1626\n"
          ],
          "name": "stdout"
        }
      ]
    },
    {
      "cell_type": "markdown",
      "metadata": {
        "id": "KcRF19jV6Kb-"
      },
      "source": [
        "# Bike dict"
      ]
    },
    {
      "cell_type": "code",
      "metadata": {
        "id": "sA21mAHL6Q2j"
      },
      "source": [
        "dic2_1 = get_singdic(d2, 3714939, 'PNTH-NZL_')\n",
        "dic2_2 = get_dic(d2, 2, 9051351, 'New Jersey-USA_')\n",
        "dic2_3 = get_dic(d2, 1, 9051351, 'Nebraska-USA_')\n",
        "dic2_4 = get_singdic(d5, 240120, 'Dallas-USA_')\n",
        "dic2_5 = get_singdic(d5, 4164701, 'Tavira-Portugal_')"
      ],
      "execution_count": 20,
      "outputs": []
    },
    {
      "cell_type": "code",
      "metadata": {
        "id": "jNYh_dKy76FW"
      },
      "source": [
        "Bike_dic = {**dic2_1, **dic2_2, **dic2_3, **dic2_4, **dic2_5}"
      ],
      "execution_count": 21,
      "outputs": []
    },
    {
      "cell_type": "code",
      "metadata": {
        "id": "tfkOocH3_R0f",
        "colab": {
          "base_uri": "https://localhost:8080/"
        },
        "outputId": "ea848b08-d2a7-4033-ffc0-9f05f5517a69"
      },
      "source": [
        "print(len(Bike_dic))"
      ],
      "execution_count": 22,
      "outputs": [
        {
          "output_type": "stream",
          "text": [
            "1363\n"
          ],
          "name": "stdout"
        }
      ]
    },
    {
      "cell_type": "markdown",
      "metadata": {
        "id": "XP3RmHeG7hhc"
      },
      "source": [
        "# Mountain bike dict"
      ]
    },
    {
      "cell_type": "code",
      "metadata": {
        "id": "PRWYloEB_sM4"
      },
      "source": [
        "dic3_1 = get_dic(d3, 5, 171814, 'Gjøvik-NO_')\n",
        "dic3_2 = get_dic(d3, 7, 171814, 'Gjøvik-NO_')\n",
        "dic3_3 = get_dic(d3, 5, 58536, 'Hørsholm-DK_')\n",
        "dic3_4 = get_dic(d3, 7, 58536, 'Hørsholm-DK_')\n",
        "dic3_5 = get_singdic(d6, 6892365, 'Krubin-PL_')\n",
        "dic3_6 = get_singdic(d6, 4203888, 'Hillerød-DK_')"
      ],
      "execution_count": 23,
      "outputs": []
    },
    {
      "cell_type": "code",
      "metadata": {
        "id": "VE6Ro-xqqvEo"
      },
      "source": [
        "Mountainbike_dic = {**dic3_1, **dic3_2, **dic3_3, **dic3_4, **dic3_5, **dic3_6}"
      ],
      "execution_count": 24,
      "outputs": []
    },
    {
      "cell_type": "code",
      "metadata": {
        "id": "WzptiS3IC6qA",
        "colab": {
          "base_uri": "https://localhost:8080/"
        },
        "outputId": "a4cb69cc-de57-4b79-a087-af52f732579c"
      },
      "source": [
        "print(len(Mountainbike_dic))"
      ],
      "execution_count": 25,
      "outputs": [
        {
          "output_type": "stream",
          "text": [
            "448\n"
          ],
          "name": "stdout"
        }
      ]
    },
    {
      "cell_type": "markdown",
      "metadata": {
        "id": "-tItQoTU2CO9"
      },
      "source": [
        "# Total dictionary"
      ]
    },
    {
      "cell_type": "code",
      "metadata": {
        "id": "B96bFlElDEA8"
      },
      "source": [
        "dic_whole = {**run_dic, **Bike_dic, **Mountainbike_dic}"
      ],
      "execution_count": 27,
      "outputs": []
    },
    {
      "cell_type": "code",
      "metadata": {
        "id": "e_KSQP0qDP1n",
        "colab": {
          "base_uri": "https://localhost:8080/"
        },
        "outputId": "a7043c9c-c493-4f0c-be56-4a7c8018d034"
      },
      "source": [
        "print(len(dic_whole))"
      ],
      "execution_count": 28,
      "outputs": [
        {
          "output_type": "stream",
          "text": [
            "3437\n"
          ],
          "name": "stdout"
        }
      ]
    },
    {
      "cell_type": "code",
      "metadata": {
        "id": "vHQf7U95EcKM"
      },
      "source": [
        "dic_whole"
      ],
      "execution_count": null,
      "outputs": []
    },
    {
      "cell_type": "markdown",
      "metadata": {
        "id": "-guyQFzcDT5g"
      },
      "source": [
        "# New_df"
      ]
    },
    {
      "cell_type": "code",
      "metadata": {
        "id": "mzRkR8S1DZof"
      },
      "source": [
        "df['city'] = df['id'].map(dic_whole)"
      ],
      "execution_count": 30,
      "outputs": []
    },
    {
      "cell_type": "code",
      "metadata": {
        "id": "MyQ3o7W1uAAB"
      },
      "source": [
        "df2 = df.dropna(subset=['city'])"
      ],
      "execution_count": 31,
      "outputs": []
    },
    {
      "cell_type": "code",
      "metadata": {
        "colab": {
          "base_uri": "https://localhost:8080/",
          "height": 1000
        },
        "id": "E30Gow0guMRS",
        "outputId": "e38158d7-2c10-4e89-ebdc-0d14784d1c94"
      },
      "source": [
        "df2"
      ],
      "execution_count": 32,
      "outputs": [
        {
          "output_type": "execute_result",
          "data": {
            "text/html": [
              "<div>\n",
              "<style scoped>\n",
              "    .dataframe tbody tr th:only-of-type {\n",
              "        vertical-align: middle;\n",
              "    }\n",
              "\n",
              "    .dataframe tbody tr th {\n",
              "        vertical-align: top;\n",
              "    }\n",
              "\n",
              "    .dataframe thead th {\n",
              "        text-align: right;\n",
              "    }\n",
              "</style>\n",
              "<table border=\"1\" class=\"dataframe\">\n",
              "  <thead>\n",
              "    <tr style=\"text-align: right;\">\n",
              "      <th></th>\n",
              "      <th>id</th>\n",
              "      <th>userId</th>\n",
              "      <th>gender</th>\n",
              "      <th>sport</th>\n",
              "      <th>calories</th>\n",
              "      <th>longitude</th>\n",
              "      <th>latitude</th>\n",
              "      <th>derived_speed</th>\n",
              "      <th>Route_id</th>\n",
              "      <th>altitude</th>\n",
              "      <th>derived_distance</th>\n",
              "      <th>speed</th>\n",
              "      <th>heart_rate</th>\n",
              "      <th>distance_adjusted_sum</th>\n",
              "      <th>name</th>\n",
              "      <th>city</th>\n",
              "    </tr>\n",
              "  </thead>\n",
              "  <tbody>\n",
              "    <tr>\n",
              "      <th>8</th>\n",
              "      <td>236905945</td>\n",
              "      <td>9051351</td>\n",
              "      <td>male</td>\n",
              "      <td>bike</td>\n",
              "      <td>1762.83</td>\n",
              "      <td>[-96.07764498330653, -96.07759008184075, -96.0...</td>\n",
              "      <td>[41.23508454300463, 41.236099088564515, 41.236...</td>\n",
              "      <td>[29.044920055943216, 37.23132633001016, 37.609...</td>\n",
              "      <td>1</td>\n",
              "      <td>[442.2, 440.6, 437.2, 433.6, 431.2, 430.6, 431...</td>\n",
              "      <td>[0.11295246688422361, 0.08273628073335591, 0.0...</td>\n",
              "      <td>[29.044920055943216, 37.23132633001016, 37.609...</td>\n",
              "      <td>[90, 91, 94, 93, 92, 120, 134, 138, 143, 147, ...</td>\n",
              "      <td>40.340000</td>\n",
              "      <td>Elton</td>\n",
              "      <td>[Nebraska-USA_40.34]</td>\n",
              "    </tr>\n",
              "    <tr>\n",
              "      <th>57</th>\n",
              "      <td>304833487</td>\n",
              "      <td>3714939</td>\n",
              "      <td>male</td>\n",
              "      <td>bike</td>\n",
              "      <td>254.00</td>\n",
              "      <td>[175.75923115946352, 175.75924817472696, 175.7...</td>\n",
              "      <td>[-40.29023291543126, -40.29022595845163, -40.2...</td>\n",
              "      <td>[2.94831833640659, 6.715151488668759, 11.47518...</td>\n",
              "      <td>2</td>\n",
              "      <td>[0.0, 0.0, 0.0, 2.2, 4.4, 6.6, 8.8, 8.8, 8.8, ...</td>\n",
              "      <td>[0.0016379546313369945, 0.0018653198579635442,...</td>\n",
              "      <td>[2.94831833640659, 6.715151488668759, 11.47518...</td>\n",
              "      <td>[64, 67, 69, 70, 72, 73, 74, 86, 86, 86, 86, 8...</td>\n",
              "      <td>15.390000</td>\n",
              "      <td>Dennis</td>\n",
              "      <td>[PNTH-NZL_15.39]</td>\n",
              "    </tr>\n",
              "    <tr>\n",
              "      <th>111</th>\n",
              "      <td>580993447</td>\n",
              "      <td>860533</td>\n",
              "      <td>male</td>\n",
              "      <td>run</td>\n",
              "      <td>539.00</td>\n",
              "      <td>[28.221429102122784, 28.221432454884052, 28.22...</td>\n",
              "      <td>[-25.723475692793727, -25.723535288125277, -25...</td>\n",
              "      <td>[7.979195494298872, 8.980701845299484, 8.88070...</td>\n",
              "      <td>11</td>\n",
              "      <td>[1279.4, 1279.8, 1281.0, 1281.0, 1281.0, 1281....</td>\n",
              "      <td>[0.006649329578582394, 0.006593690028639869, 0...</td>\n",
              "      <td>[7.979195494298872, 8.980701845299484, 8.88070...</td>\n",
              "      <td>[94, 97, 101, 104, 108, 111, 115, 119, 120, 12...</td>\n",
              "      <td>8.470000</td>\n",
              "      <td>Christian</td>\n",
              "      <td>[Pretoria-ZA_8.47]</td>\n",
              "    </tr>\n",
              "    <tr>\n",
              "      <th>117</th>\n",
              "      <td>196324896</td>\n",
              "      <td>171814</td>\n",
              "      <td>male</td>\n",
              "      <td>mountain bike</td>\n",
              "      <td>1118.34</td>\n",
              "      <td>[10.6861426, 10.6854682, 10.6844066, 10.684098...</td>\n",
              "      <td>[60.7815276, 60.7819921, 60.7827599, 60.782720...</td>\n",
              "      <td>[13.445568513689267, 16.126901499015162, 10.37...</td>\n",
              "      <td>5</td>\n",
              "      <td>[162.6, 158.0, 158.0, 158.0, 161.0, 163.0, 165...</td>\n",
              "      <td>[0.06349296242575488, 0.10303298179926354, 0.0...</td>\n",
              "      <td>[13.445568513689267, 16.126901499015162, 10.37...</td>\n",
              "      <td>[133, 134, 124, 115, 122, 130, 137, 145, 149, ...</td>\n",
              "      <td>23.950000</td>\n",
              "      <td>Franklin</td>\n",
              "      <td>[Gjøvik-NO_23.95]</td>\n",
              "    </tr>\n",
              "    <tr>\n",
              "      <th>120</th>\n",
              "      <td>86613071</td>\n",
              "      <td>3714939</td>\n",
              "      <td>male</td>\n",
              "      <td>bike</td>\n",
              "      <td>302.00</td>\n",
              "      <td>[175.75939754024148, 175.75945923104882, 175.7...</td>\n",
              "      <td>[-40.29022025875747, -40.290232663974166, -40....</td>\n",
              "      <td>[9.74322452325506, 13.018138872650102, 14.8908...</td>\n",
              "      <td>2</td>\n",
              "      <td>[0.0, 0.0, 0.0, -0.4, -0.4, -0.4, -0.4, -1.0, ...</td>\n",
              "      <td>[0.005412902512919478, 0.007232299373694501, 0...</td>\n",
              "      <td>[9.74322452325506, 13.018138872650102, 14.8908...</td>\n",
              "      <td>[80, 83, 85, 86, 89, 88, 88, 88, 88, 88, 89, 9...</td>\n",
              "      <td>15.070000</td>\n",
              "      <td>Dennis</td>\n",
              "      <td>[PNTH-NZL_15.07]</td>\n",
              "    </tr>\n",
              "    <tr>\n",
              "      <th>...</th>\n",
              "      <td>...</td>\n",
              "      <td>...</td>\n",
              "      <td>...</td>\n",
              "      <td>...</td>\n",
              "      <td>...</td>\n",
              "      <td>...</td>\n",
              "      <td>...</td>\n",
              "      <td>...</td>\n",
              "      <td>...</td>\n",
              "      <td>...</td>\n",
              "      <td>...</td>\n",
              "      <td>...</td>\n",
              "      <td>...</td>\n",
              "      <td>...</td>\n",
              "      <td>...</td>\n",
              "      <td>...</td>\n",
              "    </tr>\n",
              "    <tr>\n",
              "      <th>12534</th>\n",
              "      <td>234772370</td>\n",
              "      <td>9051351</td>\n",
              "      <td>male</td>\n",
              "      <td>bike</td>\n",
              "      <td>722.00</td>\n",
              "      <td>[-96.0777654312551, -96.07760860584676, -96.07...</td>\n",
              "      <td>[41.234817830845714, 41.234908774495125, 41.23...</td>\n",
              "      <td>[7.508463586673831, 21.8895067147745, 34.25150...</td>\n",
              "      <td>1</td>\n",
              "      <td>[336.0, 338.0, 335.6, 319.6, 321.2, 324.6, 323...</td>\n",
              "      <td>[0.016685474637052958, 0.05472376678693625, 0....</td>\n",
              "      <td>[7.508463586673831, 21.8895067147745, 39.39670...</td>\n",
              "      <td>[94.0, 107.0, 110.0, 91.0, 86.0, 100.0, 100.0,...</td>\n",
              "      <td>36.771399</td>\n",
              "      <td>Elton</td>\n",
              "      <td>[Nebraska-USA_36.77]</td>\n",
              "    </tr>\n",
              "    <tr>\n",
              "      <th>12544</th>\n",
              "      <td>443682294</td>\n",
              "      <td>58536</td>\n",
              "      <td>male</td>\n",
              "      <td>mountain bike</td>\n",
              "      <td>905.00</td>\n",
              "      <td>[12.432926008477807, 12.432247996330261, 12.43...</td>\n",
              "      <td>[55.764859803020954, 55.764923924580216, 55.76...</td>\n",
              "      <td>[12.913769918091283, 8.61360766179033, 4.35618...</td>\n",
              "      <td>7</td>\n",
              "      <td>[10.6, 9.2, 11.6, 11.6, 13.8, 15.8, 18.0, 21.8...</td>\n",
              "      <td>[0.04304589972697095, 0.031104694334242854, 0....</td>\n",
              "      <td>[12.913769918091283, 8.61360766179033, 4.35618...</td>\n",
              "      <td>[94.0, 88.0, 104.0, 91.0, 101.0, 115.0, 122.0,...</td>\n",
              "      <td>27.408731</td>\n",
              "      <td>George</td>\n",
              "      <td>[Hørsholm-DK_27.41]</td>\n",
              "    </tr>\n",
              "    <tr>\n",
              "      <th>12548</th>\n",
              "      <td>567079210</td>\n",
              "      <td>1063624</td>\n",
              "      <td>male</td>\n",
              "      <td>run</td>\n",
              "      <td>617.00</td>\n",
              "      <td>[21.25957346521318, 21.25957002863288, 21.2594...</td>\n",
              "      <td>[48.971513863652945, 48.97151319310069, 48.971...</td>\n",
              "      <td>[0.9423813987592442, 8.228266387017134, 9.8510...</td>\n",
              "      <td>10</td>\n",
              "      <td>[286.8, 288.2, 287.0, 286.6, 286.2, 286.2, 284...</td>\n",
              "      <td>[0.013106475330578593, 0.013535761460512481, 0...</td>\n",
              "      <td>[9.436662238016586, 9.85103745992285, 10.01697...</td>\n",
              "      <td>[77.0, 81.0, 84.0, 93.0, 98.0, 102.0, 105.0, 1...</td>\n",
              "      <td>15.903519</td>\n",
              "      <td>Bruce</td>\n",
              "      <td>[Prešov-SVK_15.9]</td>\n",
              "    </tr>\n",
              "    <tr>\n",
              "      <th>12549</th>\n",
              "      <td>198268823</td>\n",
              "      <td>1063624</td>\n",
              "      <td>male</td>\n",
              "      <td>run</td>\n",
              "      <td>441.00</td>\n",
              "      <td>[21.2500491, 21.2500494, 21.2501469, 21.250217...</td>\n",
              "      <td>[48.9931864, 48.993171, 48.9929749, 48.9928267...</td>\n",
              "      <td>[6.1670856897606985, 9.648100228458556, 10.194...</td>\n",
              "      <td>10</td>\n",
              "      <td>[278.6, 278.6, 277.2, 277.2, 277.2, 277.2, 276...</td>\n",
              "      <td>[0.0017130793582668606, 0.022986227624313176, ...</td>\n",
              "      <td>[6.1670856897606985, 9.648100228458556, 10.194...</td>\n",
              "      <td>[95.0, 95.0, 98.0, 103.0, 106.0, 111.0, 112.0,...</td>\n",
              "      <td>9.143248</td>\n",
              "      <td>Bruce</td>\n",
              "      <td>[Prešov-SVK_9.14]</td>\n",
              "    </tr>\n",
              "    <tr>\n",
              "      <th>12560</th>\n",
              "      <td>105169953</td>\n",
              "      <td>1063624</td>\n",
              "      <td>male</td>\n",
              "      <td>run</td>\n",
              "      <td>952.00</td>\n",
              "      <td>[21.3032618, 21.3033593, 21.3036997, 21.304051...</td>\n",
              "      <td>[48.9543223, 48.9542724, 48.9540713, 48.953855...</td>\n",
              "      <td>[8.1260237305058, 10.57178081607141, 11.111965...</td>\n",
              "      <td>12</td>\n",
              "      <td>[323.6, 320.4, 320.4, 319.4, 318.2, 318.2, 317...</td>\n",
              "      <td>[0.04262577642739165, 0.03512192657126315, 0.0...</td>\n",
              "      <td>[10.960913938472139, 11.111965138207228, 11.43...</td>\n",
              "      <td>[102.0, 122.0, 133.0, 145.0, 142.0, 149.0, 145...</td>\n",
              "      <td>25.260036</td>\n",
              "      <td>Bruce</td>\n",
              "      <td>[Prešov-SVK_25.26]</td>\n",
              "    </tr>\n",
              "  </tbody>\n",
              "</table>\n",
              "<p>3437 rows × 16 columns</p>\n",
              "</div>"
            ],
            "text/plain": [
              "              id   userId  ...       name                  city\n",
              "8      236905945  9051351  ...      Elton  [Nebraska-USA_40.34]\n",
              "57     304833487  3714939  ...     Dennis      [PNTH-NZL_15.39]\n",
              "111    580993447   860533  ...  Christian    [Pretoria-ZA_8.47]\n",
              "117    196324896   171814  ...   Franklin     [Gjøvik-NO_23.95]\n",
              "120     86613071  3714939  ...     Dennis      [PNTH-NZL_15.07]\n",
              "...          ...      ...  ...        ...                   ...\n",
              "12534  234772370  9051351  ...      Elton  [Nebraska-USA_36.77]\n",
              "12544  443682294    58536  ...     George   [Hørsholm-DK_27.41]\n",
              "12548  567079210  1063624  ...      Bruce     [Prešov-SVK_15.9]\n",
              "12549  198268823  1063624  ...      Bruce     [Prešov-SVK_9.14]\n",
              "12560  105169953  1063624  ...      Bruce    [Prešov-SVK_25.26]\n",
              "\n",
              "[3437 rows x 16 columns]"
            ]
          },
          "metadata": {
            "tags": []
          },
          "execution_count": 32
        }
      ]
    },
    {
      "cell_type": "code",
      "metadata": {
        "id": "PYXllwiuDrCh"
      },
      "source": [
        "# Save the UI dataset\r\n",
        "df2.to_csv('UI_test.csv', index = False)"
      ],
      "execution_count": 34,
      "outputs": []
    }
  ]
}